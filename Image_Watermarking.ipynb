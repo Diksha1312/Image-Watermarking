{
  "nbformat": 4,
  "nbformat_minor": 0,
  "metadata": {
    "colab": {
      "provenance": [],
      "gpuType": "T4"
    },
    "kernelspec": {
      "display_name": "Python 3",
      "name": "python3"
    },
    "accelerator": "GPU"
  },
  "cells": [
    {
      "cell_type": "markdown",
      "source": [
        "**Image Watermarking**"
      ],
      "metadata": {
        "id": "mh58ZtL-qRq9"
      }
    },
    {
      "cell_type": "code",
      "metadata": {
        "id": "xgM3uKsrvp6L"
      },
      "source": [
        "# Important library imports\n",
        "import cv2\n",
        "import numpy as np\n",
        "import requests\n",
        "from PIL import Image"
      ],
      "execution_count": 1,
      "outputs": []
    },
    {
      "cell_type": "code",
      "metadata": {
        "id": "VFr_tb6Ryw9R",
        "colab": {
          "base_uri": "https://localhost:8080/",
          "height": 317
        },
        "outputId": "7af768c6-ba38-4d5a-eaeb-1c3e4eccebed"
      },
      "source": [
        "# Reading image form url\n",
        "image = Image.open(requests.get('https://media.sproutsocial.com/uploads/2017/02/10x-featured-social-media-image-size.png', stream=True).raw)\n",
        "image_logow = image.resize((500,300))\n",
        "image_textw = image.resize((500,300))\n",
        "image_logow"
      ],
      "execution_count": 3,
      "outputs": [
        {
          "output_type": "execute_result",
          "data": {
            "text/plain": [
              "<PIL.Image.Image image mode=RGB size=500x300>"
            ],
            "image/png": "[encoded data removed]"
          },
          "metadata": {},
          "execution_count": 3
        }
      ]
    },
    {
      "cell_type": "code",
      "metadata": {
        "id": "1Gap6ecd1SJO",
        "colab": {
          "base_uri": "https://localhost:8080/",
          "height": 134
        },
        "outputId": "95cb8c06-a536-4ebf-98eb-3d0e49a08394"
      },
      "source": [
        "# Reading logo form url\n",
        "logo = Image.open('/content/logo.png')\n",
        "resized_logo = logo.resize((250,80), Image.ANTIALIAS)\n",
        "resized_logo.save('/content/resized_logo.png') # Disney logo from Google\n",
        "resized_logo"
      ],
      "execution_count": 9,
      "outputs": [
        {
          "output_type": "stream",
          "name": "stderr",
          "text": [
            "<ipython-input-9-bc431049f60b>:3: DeprecationWarning: ANTIALIAS is deprecated and will be removed in Pillow 10 (2023-07-01). Use LANCZOS or Resampling.LANCZOS instead.\n",
            "  resized_logo = logo.resize((250,80), Image.ANTIALIAS)\n"
          ]
        },
        {
          "output_type": "execute_result",
          "data": {
            "text/plain": [
              "<PIL.Image.Image image mode=P size=250x80>"
            ],
            "image/png": "[encoded data removed]"
          },
          "metadata": {},
          "execution_count": 9
        }
      ]
    },
    {
      "cell_type": "markdown",
      "source": [
        "Image as Watermark"
      ],
      "metadata": {
        "id": "x1kp9aLaAwfi"
      }
    },
    {
      "cell_type": "code",
      "metadata": {
        "id": "01o6pwi43quX",
        "colab": {
          "base_uri": "https://localhost:8080/"
        },
        "outputId": "283e3c25-ac62-4205-905d-45af786ee302"
      },
      "source": [
        "#image_logow = np.array(image_logow.convert('RGB')) # convert img to rgb image and convert to numpy\n",
        "h_image, w_image, _ = image_logow.shape # shape of image, channel not required\n",
        "logo = np.array(resized_logo.convert('RGB'))\n",
        "h_logo, w_logo, _ = logo.shape\n",
        "print(h_image)\n",
        "print(w_image)\n",
        "print(h_logo)\n",
        "print(w_logo)"
      ],
      "execution_count": 14,
      "outputs": [
        {
          "output_type": "stream",
          "name": "stdout",
          "text": [
            "300\n",
            "500\n",
            "80\n",
            "250\n"
          ]
        },
        {
          "output_type": "stream",
          "name": "stderr",
          "text": [
            "/usr/local/lib/python3.10/dist-packages/PIL/Image.py:996: UserWarning: Palette images with Transparency expressed in bytes should be converted to RGBA images\n",
            "  warnings.warn(\n"
          ]
        }
      ]
    },
    {
      "cell_type": "code",
      "metadata": {
        "id": "xkd3LdtG49xP",
        "colab": {
          "base_uri": "https://localhost:8080/"
        },
        "outputId": "3ed5c154-07cf-463e-ba41-81ac5b801fdc"
      },
      "source": [
        "# Get the center of the original. It's the location where the watermark will be placed\n",
        "center_y = int(h_image / 2)\n",
        "center_x = int(w_image / 2)\n",
        "print(center_y)\n",
        "print(center_x)\n",
        "top_y = center_y - int(h_logo / 2)\n",
        "print(top_y)\n",
        "left_x = center_x - int(w_logo / 2)\n",
        "print(left_x)\n",
        "bottom_y = top_y + h_logo\n",
        "print(bottom_y)\n",
        "right_x = left_x + w_logo\n",
        "print(right_x)"
      ],
      "execution_count": 12,
      "outputs": [
        {
          "output_type": "stream",
          "name": "stdout",
          "text": [
            "150\n",
            "250\n",
            "110\n",
            "125\n",
            "190\n",
            "375\n"
          ]
        }
      ]
    },
    {
      "cell_type": "code",
      "metadata": {
        "id": "qAR3LGie2nTY"
      },
      "source": [
        "# Get ROI\n",
        "roi = image_logow[top_y: bottom_y, left_x: right_x]\n",
        "# Add the Logo to the Roi\n",
        "result = cv2.addWeighted(roi, 1, logo, 1, 0)\n",
        "# Drawing\n",
        "cv2.line(image_logow, (0, center_y), (left_x, center_y), (0, 0, 255), 1)\n",
        "cv2.line(image_logow, (right_x, center_y), (w_image, center_y), (0, 0, 255), 1)\n",
        "# Replace the ROI on the image\n",
        "image_logow[top_y: bottom_y, left_x: right_x] = result"
      ],
      "execution_count": 15,
      "outputs": []
    },
    {
      "cell_type": "code",
      "metadata": {
        "id": "fgDosRDX3n6h",
        "colab": {
          "base_uri": "https://localhost:8080/",
          "height": 317
        },
        "outputId": "5d2e9592-2a73-4b20-8aaa-d13f9f1bcc4a"
      },
      "source": [
        "# Ploting logo watermark image\n",
        "img = Image.fromarray(image_logow, 'RGB')\n",
        "img"
      ],
      "execution_count": 16,
      "outputs": [
        {
          "output_type": "execute_result",
          "data": {
            "text/plain": [
              "<PIL.Image.Image image mode=RGB size=500x300>"
            ],
            "image/png": "[encoded data removed]"
          },
          "metadata": {},
          "execution_count": 16
        }
      ]
    },
    {
      "cell_type": "markdown",
      "source": [
        "Text as a Watermark"
      ],
      "metadata": {
        "id": "L_J0wuHxAprn"
      }
    },
    {
      "cell_type": "code",
      "metadata": {
        "id": "xcc51X3leKM2"
      },
      "source": [
        "# Text Watermark\n",
        "image_text = np.array(image_textw.convert('RGB'))\n",
        "cv2.putText(image_text, text='Disney', org=(w_image - 95, h_image - 10), fontFace=cv2.FONT_HERSHEY_COMPLEX, fontScale=0.75,\n",
        "            color=(255,0,0), thickness=1, lineType=cv2.LINE_4);"
      ],
      "execution_count": 35,
      "outputs": []
    },
    {
      "cell_type": "code",
      "metadata": {
        "id": "7m9cXRZlgn4N",
        "colab": {
          "base_uri": "https://localhost:8080/",
          "height": 317
        },
        "outputId": "1541b5f4-dcdd-4c91-fd89-21ed8d43ba43"
      },
      "source": [
        "# Plotting text watermark image\n",
        "text_img = Image.fromarray(image_text, 'RGB')\n",
        "text_img"
      ],
      "execution_count": 36,
      "outputs": [
        {
          "output_type": "execute_result",
          "data": {
            "text/plain": [
              "<PIL.Image.Image image mode=RGB size=500x300>"
            ],
            "image/png": "[encoded data removed]"
          },
          "metadata": {},
          "execution_count": 36
        }
      ]
    },
    {
      "cell_type": "code",
      "metadata": {
        "id": "twLHbP_wkeXS"
      },
      "source": [],
      "execution_count": null,
      "outputs": []
    }
  ]
}